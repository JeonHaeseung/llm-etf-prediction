{
 "cells": [
  {
   "cell_type": "code",
   "execution_count": 1,
   "metadata": {},
   "outputs": [],
   "source": [
    "import os\n",
    "import torch\n",
    "from transformers import pipeline"
   ]
  },
  {
   "cell_type": "code",
   "execution_count": 2,
   "metadata": {},
   "outputs": [],
   "source": [
    "TICKERS = [\"SPY\", \"SMH\", \"IBB\", \"GDX\", \"IYR\", \"KBE\"] "
   ]
  },
  {
   "cell_type": "code",
   "execution_count": 3,
   "metadata": {},
   "outputs": [],
   "source": [
    "def get_device():\n",
    "    os.environ[\"CUDA_VISIBLE_DEVICES\"] = \"7\"\n",
    "    use_cuda = torch.cuda.is_available()\n",
    "    device = torch.device(\"cuda\" if use_cuda else \"cpu\", 0)\n",
    "    return device"
   ]
  },
  {
   "cell_type": "code",
   "execution_count": 4,
   "metadata": {},
   "outputs": [],
   "source": [
    "def load_prompt(ticker):\n",
    "    prompt_dict = {\n",
    "        \"SPY\": \"The dataset contains historical closing prices of the SPY (SPDR S&P 500 ETF Trust). \\\n",
    "                The SPDR S&P 500 ETF Trust is an exchange-traded fund which trades on the NYSE Arca under the symbol SPY. \\\n",
    "                The ETF is designed to track the S&P 500 index by holding a portfolio comprising all 500 companies on the index. \\\n",
    "                The S&P 500 is widely regarded as the best gauge of overall performance in large-capitalized US equities, \\\n",
    "                and is comprised of 500 American companies representing a wide range of diverse market sectors.\",\n",
    "        \"SMH\": \"The dataset contains historical closing prices of the SMH (VanEck Semiconductor ETF). \\\n",
    "                The VanEck Semiconductor ETF intended to track the overall performance of companies involved in semiconductor production and equipment. \\\n",
    "                The investment seeks to replicate as closely as possible, before fees and expenses, the price and yield performance of the MVIS® US Listed Semiconductor 25 Index. \\\n",
    "                The fund normally invests at least 80 percent of its total assets in securities that comprise the fund's benchmark index. \\\n",
    "                The index includes common stocks and depositary receipts of U.S. exchange-listed companies in the semiconductor industry.\",\n",
    "        \"IBB\": \"The dataset contains historical closing prices of the IBB (iShares Biotechnology ETF). \\\n",
    "                The investment seeks to track the investment results of the NYSE Biotechnology Index composed of U.S.-listed equities in the biotechnology sector. \\\n",
    "                The fund generally will invest at least 80 percent of its assets in the component securities of its index and in investments \\\n",
    "                that have economic characteristics that are substantially identical to the component securities of its index and may invest up to 20 percent of its assets in certain futures, options and swap contracts, cash and cash equivalents.\",\n",
    "        \"GDX\": \"The dataset contains historical closing prices of the GDX (VanEck Gold Miners ETF). \\\n",
    "                The investment seeks to replicate as closely as possible, before fees and expenses, the price and yield performance of the NYSE® Arca Gold Miners Index®. \\\n",
    "                The fund normally invests at least 80 percent of its total assets in common stocks and depositary receipts of companies involved in the gold mining industry.\\\n",
    "                The index is a modified market-capitalization weighted index primarily comprised of publicly traded companies involved in the mining for gold and silver.\",\n",
    "        \"IYR\": \"The dataset contains historical closing prices of the IYR (iShares US Real Estate ETF). \\\n",
    "                The investment seeks to track the investment results of the Dow Jones U.S. Real Estate Capped Index. \\\n",
    "                The fund seeks to track the investment results of the Dow Jones U.S. Real Estate Capped Index, which measures the performance of the real estate sector of the U.S. equity market, as defined by the index provider. \\\n",
    "                It generally invests at least 80 percent of its assets in the component securities of its underlying index and in investments that have economic characteristics that are substantially identical to the component securities of its underlying index.\",\n",
    "        \"KBE\": \"The dataset contains historical closing prices of the KBE (SPDR® S&P Bank ETF). \\\n",
    "                The investment seeks to provide investment results that, before fees and expenses, correspond generally to the total return performance of the S&P Banks Select Industry Index. \\\n",
    "                The fund generally invests substantially all, but at least 80%, of its total assets in the securities comprising the index. \\\n",
    "                The index represents the banks segment of the S&P Total Market Index (“S&P TMI”). The S&P TMI is designed to track the broad U.S. equity market. \\\n",
    "                It may invest in equity securities that are not included in the index, cash and cash equivalents or money market instruments, such as repurchase agreements and money market funds.\"\n",
    "    }\n",
    "\n",
    "    prompt_prefix = prompt_dict[ticker]\n",
    "    return prompt_prefix"
   ]
  },
  {
   "cell_type": "code",
   "execution_count": 5,
   "metadata": {},
   "outputs": [],
   "source": [
    "def load_sentiment_analyzer(device):\n",
    "    sentiment_analyzer = pipeline(\"sentiment-analysis\", model=\"textattack/bert-base-uncased-SST-2\", device=device)\n",
    "    return sentiment_analyzer"
   ]
  },
  {
   "cell_type": "code",
   "execution_count": 6,
   "metadata": {},
   "outputs": [],
   "source": [
    "def analyze_sentiment(device, ticker, text):\n",
    "    sentiment_analyzer = load_sentiment_analyzer(device)\n",
    "    result = sentiment_analyzer(text)\n",
    "    for res in result:\n",
    "        print(f\"Ticker: {ticker}\")\n",
    "        print(f\"Label: {res['label']} (Positive or Negative)\")\n",
    "        print(f\"Score: {res['score']:.4f} (Confidence Level)\")\n",
    "    return result"
   ]
  },
  {
   "cell_type": "code",
   "execution_count": 7,
   "metadata": {},
   "outputs": [
    {
     "data": {
      "application/vnd.jupyter.widget-view+json": {
       "model_id": "60b195c340324bcbac4d656ab5082b07",
       "version_major": 2,
       "version_minor": 0
      },
      "text/plain": [
       "config.json:   0%|          | 0.00/477 [00:00<?, ?B/s]"
      ]
     },
     "metadata": {},
     "output_type": "display_data"
    },
    {
     "data": {
      "application/vnd.jupyter.widget-view+json": {
       "model_id": "6b51dc728b99446387a7a0e9cd46fb7b",
       "version_major": 2,
       "version_minor": 0
      },
      "text/plain": [
       "pytorch_model.bin:   0%|          | 0.00/438M [00:00<?, ?B/s]"
      ]
     },
     "metadata": {},
     "output_type": "display_data"
    },
    {
     "data": {
      "application/vnd.jupyter.widget-view+json": {
       "model_id": "6cb91bcb103c421aaba6da2541db68a5",
       "version_major": 2,
       "version_minor": 0
      },
      "text/plain": [
       "tokenizer_config.json:   0%|          | 0.00/48.0 [00:00<?, ?B/s]"
      ]
     },
     "metadata": {},
     "output_type": "display_data"
    },
    {
     "data": {
      "application/vnd.jupyter.widget-view+json": {
       "model_id": "41714e27c1a642fd93934a7d21054952",
       "version_major": 2,
       "version_minor": 0
      },
      "text/plain": [
       "vocab.txt:   0%|          | 0.00/232k [00:00<?, ?B/s]"
      ]
     },
     "metadata": {},
     "output_type": "display_data"
    },
    {
     "data": {
      "application/vnd.jupyter.widget-view+json": {
       "model_id": "338ecb237a104fecbccea09cb96562df",
       "version_major": 2,
       "version_minor": 0
      },
      "text/plain": [
       "special_tokens_map.json:   0%|          | 0.00/112 [00:00<?, ?B/s]"
      ]
     },
     "metadata": {},
     "output_type": "display_data"
    },
    {
     "name": "stdout",
     "output_type": "stream",
     "text": [
      "Ticker: SPY\n",
      "Label: LABEL_1 (Positive or Negative)\n",
      "Score: 0.9841 (Confidence Level)\n",
      "Ticker: SMH\n",
      "Label: LABEL_1 (Positive or Negative)\n",
      "Score: 0.6934 (Confidence Level)\n",
      "Ticker: IBB\n",
      "Label: LABEL_1 (Positive or Negative)\n",
      "Score: 0.8039 (Confidence Level)\n",
      "Ticker: GDX\n",
      "Label: LABEL_1 (Positive or Negative)\n",
      "Score: 0.7384 (Confidence Level)\n",
      "Ticker: IYR\n",
      "Label: LABEL_1 (Positive or Negative)\n",
      "Score: 0.8493 (Confidence Level)\n",
      "Ticker: KBE\n",
      "Label: LABEL_1 (Positive or Negative)\n",
      "Score: 0.7929 (Confidence Level)\n"
     ]
    }
   ],
   "source": [
    "device = get_device()\n",
    "\n",
    "for ticker in TICKERS:\n",
    "    sentence = load_prompt(ticker)\n",
    "    analyze_sentiment(device, ticker, sentence)"
   ]
  }
 ],
 "metadata": {
  "kernelspec": {
   "display_name": "etf",
   "language": "python",
   "name": "python3"
  },
  "language_info": {
   "codemirror_mode": {
    "name": "ipython",
    "version": 3
   },
   "file_extension": ".py",
   "mimetype": "text/x-python",
   "name": "python",
   "nbconvert_exporter": "python",
   "pygments_lexer": "ipython3",
   "version": "3.10.15"
  }
 },
 "nbformat": 4,
 "nbformat_minor": 2
}
